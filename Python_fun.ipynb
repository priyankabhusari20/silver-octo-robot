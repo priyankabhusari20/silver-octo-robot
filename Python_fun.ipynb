{
  "nbformat": 4,
  "nbformat_minor": 0,
  "metadata": {
    "colab": {
      "provenance": []
    },
    "kernelspec": {
      "name": "python3",
      "display_name": "Python 3"
    },
    "language_info": {
      "name": "python"
    }
  },
  "cells": [
    {
      "cell_type": "markdown",
      "source": [
        "**Control flow and Loops**"
      ],
      "metadata": {
        "id": "xJ_ZRCKcrRr1"
      }
    },
    {
      "cell_type": "code",
      "execution_count": 1,
      "metadata": {
        "colab": {
          "base_uri": "https://localhost:8080/"
        },
        "id": "BHc2rWfIq8xq",
        "outputId": "86a8ba69-8f77-410c-fd18-3480f71ab21f"
      },
      "outputs": [
        {
          "output_type": "stream",
          "name": "stdout",
          "text": [
            "enter a year:1980\n",
            "Leap year\n"
          ]
        }
      ],
      "source": [
        "#Create a program that takes a year as input and checks if it is a leap year or not\n",
        "year=int(input(\"enter a year:\"))\n",
        "if (year%2==0):\n",
        "  print(\"Leap year\")\n",
        "else:\n",
        "  print({\"it is not a leap year\"})\n"
      ]
    },
    {
      "cell_type": "code",
      "source": [
        "# Create a loop that prints the first 10 even numbers.\n",
        "for i in range (1,11):\n",
        "  if i%2==0:\n",
        "    print(i)\n",
        "print(\"Done!\")"
      ],
      "metadata": {
        "colab": {
          "base_uri": "https://localhost:8080/"
        },
        "id": "AaZXFN4kr3BC",
        "outputId": "6d3780de-d0b6-40be-bd4b-0c987920446c"
      },
      "execution_count": 2,
      "outputs": [
        {
          "output_type": "stream",
          "name": "stdout",
          "text": [
            "2\n",
            "4\n",
            "6\n",
            "8\n",
            "10\n",
            "Done!\n"
          ]
        }
      ]
    },
    {
      "cell_type": "code",
      "source": [
        "#  Implement a program that finds the largest number in a list\n",
        "lst=[5,6,8,43,65,51.10]\n",
        "print(max(lst))\n",
        "\n"
      ],
      "metadata": {
        "colab": {
          "base_uri": "https://localhost:8080/"
        },
        "id": "4pf0KW3AsZ3R",
        "outputId": "61067d18-50f3-4c3c-b8d2-7fd14779daa0"
      },
      "execution_count": 3,
      "outputs": [
        {
          "output_type": "stream",
          "name": "stdout",
          "text": [
            "65\n"
          ]
        }
      ]
    },
    {
      "cell_type": "code",
      "source": [
        "#Given a list of integers, find all the even numbers and store them in a new list\n",
        "lst=[5,6,7,8,9,2,34]\n",
        "new_lst=[]\n",
        "for i in lst:\n",
        "  if i%2==0:\n",
        "    new_lst=i\n",
        "    print(new_lst)\n",
        "\n",
        "\n"
      ],
      "metadata": {
        "colab": {
          "base_uri": "https://localhost:8080/"
        },
        "id": "jSGCQx2Isvr0",
        "outputId": "771d4d15-212c-4ec3-897c-99cdc670f723"
      },
      "execution_count": 7,
      "outputs": [
        {
          "output_type": "stream",
          "name": "stdout",
          "text": [
            "6\n",
            "8\n",
            "2\n",
            "34\n"
          ]
        }
      ]
    },
    {
      "cell_type": "code",
      "source": [
        "#Write a Python program to check if a given number is a prime number\n",
        "num = 15\n",
        "flag = 0\n",
        "for i in range(2,num):\n",
        "  if num%i==0:\n",
        "    flag = 1\n",
        "    break\n",
        "if flag == 1:\n",
        "  print('Not Prime')\n",
        "else:\n",
        "  print(\"Prime\")\n",
        "\n"
      ],
      "metadata": {
        "colab": {
          "base_uri": "https://localhost:8080/"
        },
        "id": "7umQ_UwutT7x",
        "outputId": "86f00822-26c0-40eb-97ee-8d02ab787941"
      },
      "execution_count": 10,
      "outputs": [
        {
          "output_type": "stream",
          "name": "stdout",
          "text": [
            "Not Prime\n"
          ]
        }
      ]
    },
    {
      "cell_type": "code",
      "source": [
        "# Create a program that generates the Fibonacci sequence up to a given number of  terms\n",
        "num=10\n",
        "a,b=0,1\n",
        "print(\"Fibonacci Series:\", a, b, end=\" \")\n",
        "for i in range(2, num):\n",
        "    c = a+b\n",
        "    a = b\n",
        "    b = c\n",
        "    print(c, end=\" \")\n",
        "\n",
        "print()\n",
        "\n",
        "\n"
      ],
      "metadata": {
        "colab": {
          "base_uri": "https://localhost:8080/"
        },
        "id": "k21E9ZxOuqA0",
        "outputId": "c5673c08-1c76-45d0-ac78-ca88fbf49dd4"
      },
      "execution_count": 12,
      "outputs": [
        {
          "output_type": "stream",
          "name": "stdout",
          "text": [
            "Fibonacci Series: 0 1 1 2 3 5 8 13 21 34 \n"
          ]
        }
      ]
    },
    {
      "cell_type": "code",
      "source": [
        "# Given a list of names, print all names starting with the letter 'A'\n",
        "lst=['Apple','Authenticity','City','Down']\n",
        "for i in lst:\n",
        "  if i[0]=='A':\n",
        "    print(i,end=\" \")"
      ],
      "metadata": {
        "colab": {
          "base_uri": "https://localhost:8080/"
        },
        "id": "CJIG_0ZZxDFJ",
        "outputId": "20642721-ad7a-4a0c-87ac-25932fb1e5e9"
      },
      "execution_count": 14,
      "outputs": [
        {
          "output_type": "stream",
          "name": "stdout",
          "text": [
            "Apple Authenticity "
          ]
        }
      ]
    },
    {
      "cell_type": "code",
      "source": [
        "# Write a program that calculates the factorial of a given number\n",
        "num=5\n",
        "fact=1\n",
        "for i in range(1,num+1):\n",
        "  fact=fact*i\n",
        "  print(fact)"
      ],
      "metadata": {
        "colab": {
          "base_uri": "https://localhost:8080/"
        },
        "id": "RuqCeNPhxe4t",
        "outputId": "4fb88f48-3689-45ed-d5fd-0918b2e49478"
      },
      "execution_count": 15,
      "outputs": [
        {
          "output_type": "stream",
          "name": "stdout",
          "text": [
            "1\n",
            "2\n",
            "6\n",
            "24\n",
            "120\n"
          ]
        }
      ]
    },
    {
      "cell_type": "markdown",
      "source": [
        "## **Function**\n"
      ],
      "metadata": {
        "id": "zpQ7_kZS0zB7"
      }
    },
    {
      "cell_type": "code",
      "source": [
        "#  Write a function to calculate the area of a circle given its radius\n",
        "def area_of_circle(r):\n",
        "  area=3.14*r*r\n",
        "  print(area)\n",
        "\n",
        "area_of_circle(5)"
      ],
      "metadata": {
        "colab": {
          "base_uri": "https://localhost:8080/"
        },
        "id": "6uyJ6Yfdx6rO",
        "outputId": "0acf06d3-b5f0-4430-b9b5-637cbeaa462a"
      },
      "execution_count": 18,
      "outputs": [
        {
          "output_type": "stream",
          "name": "stdout",
          "text": [
            "78.5\n"
          ]
        }
      ]
    },
    {
      "cell_type": "code",
      "source": [
        "#Create a function to check if a number is prime.\n",
        "def check_prime(num):\n",
        "  flag=0\n",
        "  for i in range(2,num):\n",
        "    if num%i==0:\n",
        "      flag=1\n",
        "      break\n",
        "  if flag==1:\n",
        "      print(\"not prime\")\n",
        "  else:\n",
        "      print(\"prime\")\n",
        "check_prime(11)"
      ],
      "metadata": {
        "colab": {
          "base_uri": "https://localhost:8080/"
        },
        "id": "32ra3cCQ1RmP",
        "outputId": "ce72d247-0226-4d2e-ed66-72977741793b"
      },
      "execution_count": 25,
      "outputs": [
        {
          "output_type": "stream",
          "name": "stdout",
          "text": [
            "prime\n"
          ]
        }
      ]
    },
    {
      "cell_type": "code",
      "source": [
        "# Implement a function that reverses a given string\n",
        "def reverse_string(str):\n",
        "  print(str[::-1])\n",
        "\n",
        "reverse_string(\"HELLO\")"
      ],
      "metadata": {
        "colab": {
          "base_uri": "https://localhost:8080/"
        },
        "id": "_cFs3GeS2AOj",
        "outputId": "d400e923-38e6-4611-f393-9bea9f097b8f"
      },
      "execution_count": 26,
      "outputs": [
        {
          "output_type": "stream",
          "name": "stdout",
          "text": [
            "OLLEH\n"
          ]
        }
      ]
    },
    {
      "cell_type": "code",
      "source": [
        "#Given a list of numbers, create a function to find the sum of all positive numbers\n",
        "def sum_of_positive(lst):\n",
        "  sum=0\n",
        "  for i in lst:\n",
        "    if i>0:\n",
        "      sum=sum+i  # Add the number to sum\n",
        "  print(sum)\n",
        "\n",
        "sum_of_positive([1,2,3,5,-1,-6,-9])\n"
      ],
      "metadata": {
        "colab": {
          "base_uri": "https://localhost:8080/"
        },
        "id": "Xtr_bh3t26sg",
        "outputId": "1fd9e2f6-e04d-42a2-cb2b-7bcbcc2b92b3"
      },
      "execution_count": 39,
      "outputs": [
        {
          "output_type": "stream",
          "name": "stdout",
          "text": [
            "11\n"
          ]
        }
      ]
    },
    {
      "cell_type": "code",
      "source": [
        "#Write a Python function to check if a given string is a palindrome\n",
        "string=\"madam\"\n",
        "if string==str[::-1]:\n",
        "  print(\"palindrome\")\n",
        "else:\n",
        "  print(\"not palindrome\")\n"
      ],
      "metadata": {
        "colab": {
          "base_uri": "https://localhost:8080/"
        },
        "id": "to4h0ohv3jEl",
        "outputId": "69e67d23-c9f7-4905-a554-fa764938d993"
      },
      "execution_count": 41,
      "outputs": [
        {
          "output_type": "stream",
          "name": "stdout",
          "text": [
            "palindrome\n"
          ]
        }
      ]
    },
    {
      "cell_type": "code",
      "source": [
        "#Implement a function that returns the factorial of a given number using recursion\n",
        "def factorial(num):\n",
        "  if num==0:\n",
        "    return 1\n",
        "  else:\n",
        "    return num*factorial(num-1)\n",
        "factorial(5)\n"
      ],
      "metadata": {
        "colab": {
          "base_uri": "https://localhost:8080/"
        },
        "id": "g4ZPorZO5ToA",
        "outputId": "2fc4516a-2664-4a96-c796-138c9d6c9df2"
      },
      "execution_count": 44,
      "outputs": [
        {
          "output_type": "execute_result",
          "data": {
            "text/plain": [
              "120"
            ]
          },
          "metadata": {},
          "execution_count": 44
        }
      ]
    },
    {
      "cell_type": "code",
      "source": [
        "#Create a function to find the square of each element in a given list\n",
        "def square(lst):\n",
        "  i=0\n",
        "  for i in lst:\n",
        "    print(i*i)\n",
        "    i=i+1\n",
        "square([1,2,3,4,5])\n"
      ],
      "metadata": {
        "colab": {
          "base_uri": "https://localhost:8080/"
        },
        "id": "xng2cCbO829F",
        "outputId": "1519d9e3-2e91-46f9-d1f1-9456d161dbba"
      },
      "execution_count": 46,
      "outputs": [
        {
          "output_type": "stream",
          "name": "stdout",
          "text": [
            "1\n",
            "4\n",
            "9\n",
            "16\n",
            "25\n"
          ]
        }
      ]
    },
    {
      "cell_type": "code",
      "source": [
        "# Write a function to check if a number is even or odd and return \"Even\" or \"Odd\" accordingly\n",
        "def even_odd(num):\n",
        "  if num%2==0:\n",
        "    print(\"even\")\n",
        "  else:\n",
        "    print(\"odd\")\n",
        "even_odd(5)\n"
      ],
      "metadata": {
        "colab": {
          "base_uri": "https://localhost:8080/"
        },
        "id": "sGQ1_oI59cQE",
        "outputId": "2a581173-dca8-4434-887a-8a2935edd95f"
      },
      "execution_count": 47,
      "outputs": [
        {
          "output_type": "stream",
          "name": "stdout",
          "text": [
            "odd\n"
          ]
        }
      ]
    },
    {
      "cell_type": "code",
      "source": [
        "#Calculate the area of a triangle given its base and height using a function\n",
        "def area_of_triangle(base,height):\n",
        "  area=1/2*base*height\n",
        "  print(area)\n",
        "\n",
        "area_of_triangle(5,6)\n",
        "\n"
      ],
      "metadata": {
        "colab": {
          "base_uri": "https://localhost:8080/"
        },
        "id": "-w6ieWm5-gwb",
        "outputId": "df3cd745-bf50-4b02-b14d-8c0f716df48f"
      },
      "execution_count": 48,
      "outputs": [
        {
          "output_type": "stream",
          "name": "stdout",
          "text": [
            "15.0\n"
          ]
        }
      ]
    },
    {
      "cell_type": "code",
      "source": [
        "#Create a function that takes a list of strings and returns the list sorted alphabetically\n",
        "def sor_string(str):\n",
        "  str.sort()\n",
        "  print(str)\n",
        "sor_string(['apple','cherry','banana'])"
      ],
      "metadata": {
        "colab": {
          "base_uri": "https://localhost:8080/"
        },
        "id": "wXPeE9Gr-2jW",
        "outputId": "d6b75b38-4db4-46e2-c54d-e6355f370650"
      },
      "execution_count": 50,
      "outputs": [
        {
          "output_type": "stream",
          "name": "stdout",
          "text": [
            "['apple', 'banana', 'cherry']\n"
          ]
        }
      ]
    },
    {
      "cell_type": "code",
      "source": [
        "#Create a function that takes a list of strings and returns the list sorted alphabetically\n",
        "def sor_string(str):\n",
        "  str.sort()\n",
        "  print(str)\n",
        "sor_string(['a','b','g','d','y','j'])\n"
      ],
      "metadata": {
        "colab": {
          "base_uri": "https://localhost:8080/"
        },
        "id": "xGJ8gyS6_jIL",
        "outputId": "f2fcfae8-fcbc-46a1-a2ad-4d50c28a9c00"
      },
      "execution_count": 51,
      "outputs": [
        {
          "output_type": "stream",
          "name": "stdout",
          "text": [
            "['a', 'b', 'd', 'g', 'j', 'y']\n"
          ]
        }
      ]
    },
    {
      "cell_type": "code",
      "source": [
        "# Write a function that takes two lists and returns their intersection (common elements)\n",
        "def two_lst(lst1, lst2):\n",
        "  result = list(set(lst1).intersection(lst2))\n",
        "  return result\n",
        "\n",
        "# Example usage:\n",
        "lst1 = [1, 2, 3, 4]\n",
        "lst2 = [3, 4, 5, 6]\n",
        "print(two_lst(lst1, lst2))\n"
      ],
      "metadata": {
        "colab": {
          "base_uri": "https://localhost:8080/"
        },
        "id": "B-00erEe_-A3",
        "outputId": "ea0e1922-c713-4543-8962-00f41f846c87"
      },
      "execution_count": 52,
      "outputs": [
        {
          "output_type": "stream",
          "name": "stdout",
          "text": [
            "[3, 4]\n"
          ]
        }
      ]
    }
  ]
}